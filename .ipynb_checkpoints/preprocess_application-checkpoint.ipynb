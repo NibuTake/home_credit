{
 "cells": [
  {
   "cell_type": "code",
   "execution_count": 5,
   "metadata": {},
   "outputs": [],
   "source": [
    "import os\n",
    "import numpy as np\n",
    "import pandas as pd\n",
    "\n",
    "import matplotlib.pyplot as plt\n",
    "from matplotlib.pylab import rcParams\n",
    "%matplotlib inline\n",
    "rcParams['figure.figsize'] = 19, 12\n",
    "import seaborn as sns\n",
    "from sklearn.preprocessing import OneHotEncoder, LabelEncoder\n",
    "\n",
    "import collections\n",
    "from sklearn.neighbors import KNeighborsClassifier\n",
    "from sklearn.model_selection import train_test_split\n",
    "\n",
    "import xgboost as xgb\n",
    "import lightgbm as lgb\n",
    "from hyperopt import fmin, tpe, hp, STATUS_OK, Trials\n",
    "from sklearn import metrics, cross_validation\n",
    "\n",
    "import codecs"
   ]
  },
  {
   "cell_type": "code",
   "execution_count": 3,
   "metadata": {
    "scrolled": true
   },
   "outputs": [
    {
     "data": {
      "text/html": [
       "<div>\n",
       "<style>\n",
       "    .dataframe thead tr:only-child th {\n",
       "        text-align: right;\n",
       "    }\n",
       "\n",
       "    .dataframe thead th {\n",
       "        text-align: left;\n",
       "    }\n",
       "\n",
       "    .dataframe tbody tr th {\n",
       "        vertical-align: top;\n",
       "    }\n",
       "</style>\n",
       "<table border=\"1\" class=\"dataframe\">\n",
       "  <thead>\n",
       "    <tr style=\"text-align: right;\">\n",
       "      <th></th>\n",
       "      <th>SK_ID_CURR</th>\n",
       "      <th>TARGET</th>\n",
       "      <th>NAME_CONTRACT_TYPE</th>\n",
       "      <th>CODE_GENDER</th>\n",
       "      <th>FLAG_OWN_CAR</th>\n",
       "      <th>FLAG_OWN_REALTY</th>\n",
       "      <th>CNT_CHILDREN</th>\n",
       "      <th>AMT_INCOME_TOTAL</th>\n",
       "      <th>AMT_CREDIT</th>\n",
       "      <th>AMT_ANNUITY</th>\n",
       "      <th>...</th>\n",
       "      <th>FLAG_DOCUMENT_18</th>\n",
       "      <th>FLAG_DOCUMENT_19</th>\n",
       "      <th>FLAG_DOCUMENT_20</th>\n",
       "      <th>FLAG_DOCUMENT_21</th>\n",
       "      <th>AMT_REQ_CREDIT_BUREAU_HOUR</th>\n",
       "      <th>AMT_REQ_CREDIT_BUREAU_DAY</th>\n",
       "      <th>AMT_REQ_CREDIT_BUREAU_WEEK</th>\n",
       "      <th>AMT_REQ_CREDIT_BUREAU_MON</th>\n",
       "      <th>AMT_REQ_CREDIT_BUREAU_QRT</th>\n",
       "      <th>AMT_REQ_CREDIT_BUREAU_YEAR</th>\n",
       "    </tr>\n",
       "  </thead>\n",
       "  <tbody>\n",
       "    <tr>\n",
       "      <th>0</th>\n",
       "      <td>100002</td>\n",
       "      <td>1</td>\n",
       "      <td>Cash loans</td>\n",
       "      <td>M</td>\n",
       "      <td>N</td>\n",
       "      <td>Y</td>\n",
       "      <td>0</td>\n",
       "      <td>202500.0</td>\n",
       "      <td>406597.5</td>\n",
       "      <td>24700.5</td>\n",
       "      <td>...</td>\n",
       "      <td>0</td>\n",
       "      <td>0</td>\n",
       "      <td>0</td>\n",
       "      <td>0</td>\n",
       "      <td>0.0</td>\n",
       "      <td>0.0</td>\n",
       "      <td>0.0</td>\n",
       "      <td>0.0</td>\n",
       "      <td>0.0</td>\n",
       "      <td>1.0</td>\n",
       "    </tr>\n",
       "    <tr>\n",
       "      <th>1</th>\n",
       "      <td>100003</td>\n",
       "      <td>0</td>\n",
       "      <td>Cash loans</td>\n",
       "      <td>F</td>\n",
       "      <td>N</td>\n",
       "      <td>N</td>\n",
       "      <td>0</td>\n",
       "      <td>270000.0</td>\n",
       "      <td>1293502.5</td>\n",
       "      <td>35698.5</td>\n",
       "      <td>...</td>\n",
       "      <td>0</td>\n",
       "      <td>0</td>\n",
       "      <td>0</td>\n",
       "      <td>0</td>\n",
       "      <td>0.0</td>\n",
       "      <td>0.0</td>\n",
       "      <td>0.0</td>\n",
       "      <td>0.0</td>\n",
       "      <td>0.0</td>\n",
       "      <td>0.0</td>\n",
       "    </tr>\n",
       "    <tr>\n",
       "      <th>2</th>\n",
       "      <td>100004</td>\n",
       "      <td>0</td>\n",
       "      <td>Revolving loans</td>\n",
       "      <td>M</td>\n",
       "      <td>Y</td>\n",
       "      <td>Y</td>\n",
       "      <td>0</td>\n",
       "      <td>67500.0</td>\n",
       "      <td>135000.0</td>\n",
       "      <td>6750.0</td>\n",
       "      <td>...</td>\n",
       "      <td>0</td>\n",
       "      <td>0</td>\n",
       "      <td>0</td>\n",
       "      <td>0</td>\n",
       "      <td>0.0</td>\n",
       "      <td>0.0</td>\n",
       "      <td>0.0</td>\n",
       "      <td>0.0</td>\n",
       "      <td>0.0</td>\n",
       "      <td>0.0</td>\n",
       "    </tr>\n",
       "    <tr>\n",
       "      <th>3</th>\n",
       "      <td>100006</td>\n",
       "      <td>0</td>\n",
       "      <td>Cash loans</td>\n",
       "      <td>F</td>\n",
       "      <td>N</td>\n",
       "      <td>Y</td>\n",
       "      <td>0</td>\n",
       "      <td>135000.0</td>\n",
       "      <td>312682.5</td>\n",
       "      <td>29686.5</td>\n",
       "      <td>...</td>\n",
       "      <td>0</td>\n",
       "      <td>0</td>\n",
       "      <td>0</td>\n",
       "      <td>0</td>\n",
       "      <td>NaN</td>\n",
       "      <td>NaN</td>\n",
       "      <td>NaN</td>\n",
       "      <td>NaN</td>\n",
       "      <td>NaN</td>\n",
       "      <td>NaN</td>\n",
       "    </tr>\n",
       "    <tr>\n",
       "      <th>4</th>\n",
       "      <td>100007</td>\n",
       "      <td>0</td>\n",
       "      <td>Cash loans</td>\n",
       "      <td>M</td>\n",
       "      <td>N</td>\n",
       "      <td>Y</td>\n",
       "      <td>0</td>\n",
       "      <td>121500.0</td>\n",
       "      <td>513000.0</td>\n",
       "      <td>21865.5</td>\n",
       "      <td>...</td>\n",
       "      <td>0</td>\n",
       "      <td>0</td>\n",
       "      <td>0</td>\n",
       "      <td>0</td>\n",
       "      <td>0.0</td>\n",
       "      <td>0.0</td>\n",
       "      <td>0.0</td>\n",
       "      <td>0.0</td>\n",
       "      <td>0.0</td>\n",
       "      <td>0.0</td>\n",
       "    </tr>\n",
       "  </tbody>\n",
       "</table>\n",
       "<p>5 rows × 122 columns</p>\n",
       "</div>"
      ],
      "text/plain": [
       "   SK_ID_CURR  TARGET NAME_CONTRACT_TYPE CODE_GENDER FLAG_OWN_CAR  \\\n",
       "0      100002       1         Cash loans           M            N   \n",
       "1      100003       0         Cash loans           F            N   \n",
       "2      100004       0    Revolving loans           M            Y   \n",
       "3      100006       0         Cash loans           F            N   \n",
       "4      100007       0         Cash loans           M            N   \n",
       "\n",
       "  FLAG_OWN_REALTY  CNT_CHILDREN  AMT_INCOME_TOTAL  AMT_CREDIT  AMT_ANNUITY  \\\n",
       "0               Y             0          202500.0    406597.5      24700.5   \n",
       "1               N             0          270000.0   1293502.5      35698.5   \n",
       "2               Y             0           67500.0    135000.0       6750.0   \n",
       "3               Y             0          135000.0    312682.5      29686.5   \n",
       "4               Y             0          121500.0    513000.0      21865.5   \n",
       "\n",
       "              ...              FLAG_DOCUMENT_18 FLAG_DOCUMENT_19  \\\n",
       "0             ...                             0                0   \n",
       "1             ...                             0                0   \n",
       "2             ...                             0                0   \n",
       "3             ...                             0                0   \n",
       "4             ...                             0                0   \n",
       "\n",
       "  FLAG_DOCUMENT_20 FLAG_DOCUMENT_21 AMT_REQ_CREDIT_BUREAU_HOUR  \\\n",
       "0                0                0                        0.0   \n",
       "1                0                0                        0.0   \n",
       "2                0                0                        0.0   \n",
       "3                0                0                        NaN   \n",
       "4                0                0                        0.0   \n",
       "\n",
       "  AMT_REQ_CREDIT_BUREAU_DAY  AMT_REQ_CREDIT_BUREAU_WEEK  \\\n",
       "0                       0.0                         0.0   \n",
       "1                       0.0                         0.0   \n",
       "2                       0.0                         0.0   \n",
       "3                       NaN                         NaN   \n",
       "4                       0.0                         0.0   \n",
       "\n",
       "   AMT_REQ_CREDIT_BUREAU_MON  AMT_REQ_CREDIT_BUREAU_QRT  \\\n",
       "0                        0.0                        0.0   \n",
       "1                        0.0                        0.0   \n",
       "2                        0.0                        0.0   \n",
       "3                        NaN                        NaN   \n",
       "4                        0.0                        0.0   \n",
       "\n",
       "   AMT_REQ_CREDIT_BUREAU_YEAR  \n",
       "0                         1.0  \n",
       "1                         0.0  \n",
       "2                         0.0  \n",
       "3                         NaN  \n",
       "4                         0.0  \n",
       "\n",
       "[5 rows x 122 columns]"
      ]
     },
     "execution_count": 3,
     "metadata": {},
     "output_type": "execute_result"
    }
   ],
   "source": [
    "data_train = pd.read_csv('application_train.csv')\n",
    "data_test = pd.read_csv('application_test.csv')\n",
    "data_train.head()"
   ]
  },
  {
   "cell_type": "code",
   "execution_count": 6,
   "metadata": {},
   "outputs": [],
   "source": [
    "with codecs.open('HomeCredit_columns_description.csv', 'r', 'utf-8', 'ignore') as f:\n",
    "    column_details = pd.read_csv(f)"
   ]
  },
  {
   "cell_type": "code",
   "execution_count": 7,
   "metadata": {
    "scrolled": true
   },
   "outputs": [
    {
     "data": {
      "text/plain": [
       "0                               ID of loan in our sample\n",
       "1      Target variable (1 - client with payment diffi...\n",
       "2            Identification if loan is cash or revolving\n",
       "3                                   Gender of the client\n",
       "4                          Flag if the client owns a car\n",
       "5                    Flag if client owns a house or flat\n",
       "6                      Number of children the client has\n",
       "7                                   Income of the client\n",
       "8                              Credit amount of the loan\n",
       "9                                           Loan annuity\n",
       "10     For consumer loans it is the price of the good...\n",
       "11     Who was accompanying client when he was applyi...\n",
       "12     Clients income type (businessman, working, mat...\n",
       "13        Level of highest education the client achieved\n",
       "14                           Family status of the client\n",
       "15     What is the housing situation of the client (r...\n",
       "16     Normalized population of region where client l...\n",
       "17       Client's age in days at the time of application\n",
       "18     How many days before the application the perso...\n",
       "19     How many days before the application did clien...\n",
       "20     How many days before the application did clien...\n",
       "21                                   Age of client's car\n",
       "22         Did client provide mobile phone (1=YES, 0=NO)\n",
       "23           Did client provide work phone (1=YES, 0=NO)\n",
       "24           Did client provide home phone (1=YES, 0=NO)\n",
       "25              Was mobile phone reachable (1=YES, 0=NO)\n",
       "26           Did client provide home phone (1=YES, 0=NO)\n",
       "27                Did client provide email (1=YES, 0=NO)\n",
       "28          What kind of occupation does the client have\n",
       "29              How many family members does client have\n",
       "                             ...                        \n",
       "189                             Purpose of the cash loan\n",
       "190    Contract status (approved, cancelled, ...) of ...\n",
       "191    Relative to current application when was the d...\n",
       "192    Payment method that client chose to pay for th...\n",
       "193            Why was the previous application rejected\n",
       "194    Who accompanied client when applying for the p...\n",
       "195    Was the client old or new client when applying...\n",
       "196    What kind of goods did the client apply for in...\n",
       "197    Was the previous application for CASH, POS, CAR, \n",
       "198        Was the previous application x-sell o walk-in\n",
       "199    Through which channel we acquired the client o...\n",
       "200    Selling area of seller place of the previous a...\n",
       "201                           The industry of the seller\n",
       "202    Term of previous credit at application of the ...\n",
       "203    Grouped interest rate into small medium and hi...\n",
       "204    Detailed product combination of the previous a...\n",
       "205    Relative to application date of current applic...\n",
       "206    Relative to application date of current applic...\n",
       "207    Relative to application date of current applic...\n",
       "208    Relative to application date of current applic...\n",
       "209    Relative to application date of current applic...\n",
       "210    Did the client requested insurance during the ...\n",
       "211    ID of previous credit in Home credit related t...\n",
       "212                             ID of loan in our sample\n",
       "213    Version of installment calendar (0 is for cred...\n",
       "214              On which installment we observe payment\n",
       "215    When the installment of previous credit was su...\n",
       "216    When was the installments of previous credit p...\n",
       "217    What was the prescribed installment amount of ...\n",
       "218    What the client actually paid on previous cred...\n",
       "Name: Description, Length: 219, dtype: object"
      ]
     },
     "execution_count": 7,
     "metadata": {},
     "output_type": "execute_result"
    }
   ],
   "source": [
    "column_details = column_details[['Row', 'Description']]\n",
    "column_details['Description']"
   ]
  },
  {
   "cell_type": "markdown",
   "metadata": {},
   "source": [
    "### TARGET\n",
    "Considering this rate, we probably need to reduce negative data by using down sampling."
   ]
  },
  {
   "cell_type": "code",
   "execution_count": 8,
   "metadata": {},
   "outputs": [
    {
     "data": {
      "text/plain": [
       "(array([ 282686.,       0.,       0.,       0.,       0.,       0.,\n",
       "              0.,       0.,       0.,   24825.]),\n",
       " array([ 0. ,  0.1,  0.2,  0.3,  0.4,  0.5,  0.6,  0.7,  0.8,  0.9,  1. ]),\n",
       " <a list of 10 Patch objects>)"
      ]
     },
     "execution_count": 8,
     "metadata": {},
     "output_type": "execute_result"
    },
    {
     "data": {
      "image/png": "[encoded data removed]",
      "text/plain": [
       "<matplotlib.figure.Figure at 0x20f318585c0>"
      ]
     },
     "metadata": {},
     "output_type": "display_data"
    }
   ],
   "source": [
    "plt.hist(data_train.TARGET)"
   ]
  },
  {
   "cell_type": "code",
   "execution_count": 9,
   "metadata": {
    "scrolled": true
   },
   "outputs": [
    {
     "name": "stdout",
     "output_type": "stream",
     "text": [
      "<class 'pandas.core.frame.DataFrame'>\n",
      "RangeIndex: 307511 entries, 0 to 307510\n",
      "Data columns (total 60 columns):\n",
      "SK_ID_CURR                     307511 non-null int64\n",
      "TARGET                         307511 non-null int64\n",
      "NAME_CONTRACT_TYPE             307511 non-null object\n",
      "CODE_GENDER                    307511 non-null object\n",
      "FLAG_OWN_CAR                   307511 non-null object\n",
      "FLAG_OWN_REALTY                307511 non-null object\n",
      "CNT_CHILDREN                   307511 non-null int64\n",
      "AMT_INCOME_TOTAL               307511 non-null float64\n",
      "AMT_CREDIT                     307511 non-null float64\n",
      "AMT_ANNUITY                    307499 non-null float64\n",
      "AMT_GOODS_PRICE                307233 non-null float64\n",
      "NAME_TYPE_SUITE                306219 non-null object\n",
      "NAME_INCOME_TYPE               307511 non-null object\n",
      "NAME_EDUCATION_TYPE            307511 non-null object\n",
      "NAME_FAMILY_STATUS             307511 non-null object\n",
      "NAME_HOUSING_TYPE              307511 non-null object\n",
      "REGION_POPULATION_RELATIVE     307511 non-null float64\n",
      "DAYS_BIRTH                     307511 non-null int64\n",
      "DAYS_EMPLOYED                  307511 non-null int64\n",
      "DAYS_REGISTRATION              307511 non-null float64\n",
      "DAYS_ID_PUBLISH                307511 non-null int64\n",
      "OWN_CAR_AGE                    104582 non-null float64\n",
      "FLAG_MOBIL                     307511 non-null int64\n",
      "FLAG_EMP_PHONE                 307511 non-null int64\n",
      "FLAG_WORK_PHONE                307511 non-null int64\n",
      "FLAG_CONT_MOBILE               307511 non-null int64\n",
      "FLAG_PHONE                     307511 non-null int64\n",
      "FLAG_EMAIL                     307511 non-null int64\n",
      "OCCUPATION_TYPE                211120 non-null object\n",
      "CNT_FAM_MEMBERS                307509 non-null float64\n",
      "REGION_RATING_CLIENT           307511 non-null int64\n",
      "REGION_RATING_CLIENT_W_CITY    307511 non-null int64\n",
      "WEEKDAY_APPR_PROCESS_START     307511 non-null object\n",
      "HOUR_APPR_PROCESS_START        307511 non-null int64\n",
      "REG_REGION_NOT_LIVE_REGION     307511 non-null int64\n",
      "REG_REGION_NOT_WORK_REGION     307511 non-null int64\n",
      "LIVE_REGION_NOT_WORK_REGION    307511 non-null int64\n",
      "REG_CITY_NOT_LIVE_CITY         307511 non-null int64\n",
      "REG_CITY_NOT_WORK_CITY         307511 non-null int64\n",
      "LIVE_CITY_NOT_WORK_CITY        307511 non-null int64\n",
      "ORGANIZATION_TYPE              307511 non-null object\n",
      "EXT_SOURCE_1                   134133 non-null float64\n",
      "EXT_SOURCE_2                   306851 non-null float64\n",
      "EXT_SOURCE_3                   246546 non-null float64\n",
      "APARTMENTS_AVG                 151450 non-null float64\n",
      "BASEMENTAREA_AVG               127568 non-null float64\n",
      "YEARS_BEGINEXPLUATATION_AVG    157504 non-null float64\n",
      "YEARS_BUILD_AVG                103023 non-null float64\n",
      "COMMONAREA_AVG                 92646 non-null float64\n",
      "ELEVATORS_AVG                  143620 non-null float64\n",
      "ENTRANCES_AVG                  152683 non-null float64\n",
      "FLOORSMAX_AVG                  154491 non-null float64\n",
      "FLOORSMIN_AVG                  98869 non-null float64\n",
      "LANDAREA_AVG                   124921 non-null float64\n",
      "LIVINGAPARTMENTS_AVG           97312 non-null float64\n",
      "LIVINGAREA_AVG                 153161 non-null float64\n",
      "NONLIVINGAPARTMENTS_AVG        93997 non-null float64\n",
      "NONLIVINGAREA_AVG              137829 non-null float64\n",
      "APARTMENTS_MODE                151450 non-null float64\n",
      "BASEMENTAREA_MODE              127568 non-null float64\n",
      "dtypes: float64(27), int64(21), object(12)\n",
      "memory usage: 140.8+ MB\n"
     ]
    }
   ],
   "source": [
    "data_train.iloc[:,:60].info()"
   ]
  },
  {
   "cell_type": "code",
   "execution_count": 10,
   "metadata": {},
   "outputs": [
    {
     "data": {
      "text/plain": [
       "Index(['SK_ID_CURR', 'TARGET', 'NAME_CONTRACT_TYPE', 'CODE_GENDER',\n",
       "       'FLAG_OWN_CAR', 'FLAG_OWN_REALTY', 'CNT_CHILDREN', 'AMT_INCOME_TOTAL',\n",
       "       'AMT_CREDIT', 'AMT_ANNUITY',\n",
       "       ...\n",
       "       'FLAG_DOCUMENT_18', 'FLAG_DOCUMENT_19', 'FLAG_DOCUMENT_20',\n",
       "       'FLAG_DOCUMENT_21', 'AMT_REQ_CREDIT_BUREAU_HOUR',\n",
       "       'AMT_REQ_CREDIT_BUREAU_DAY', 'AMT_REQ_CREDIT_BUREAU_WEEK',\n",
       "       'AMT_REQ_CREDIT_BUREAU_MON', 'AMT_REQ_CREDIT_BUREAU_QRT',\n",
       "       'AMT_REQ_CREDIT_BUREAU_YEAR'],\n",
       "      dtype='object', length=122)"
      ]
     },
     "execution_count": 10,
     "metadata": {},
     "output_type": "execute_result"
    }
   ],
   "source": [
    "data_train.columns"
   ]
  },
  {
   "cell_type": "markdown",
   "metadata": {},
   "source": [
    "## Strategy of prediction.\n",
    "\n",
    "### Model\n",
    "We use LightGBM can handle nan data, because of many columns contains a lot of nan data.\n",
    "\n",
    "### Preprocess.\n",
    "Since one hot encoding has possibility of loss of order structure, we try to convert categorical data to numeric data with order.  \n",
    "\n",
    "If the column has two element in data, we apply one hot encoding with drop=True.\n",
    "Else, we try to estimate order structure of the column and convert it. "
   ]
  },
  {
   "cell_type": "markdown",
   "metadata": {},
   "source": [
    "### NAME_CONTRACT_TYPE\n",
    "It contains two paterns. We apply onehot encoding with drop=True. "
   ]
  },
  {
   "cell_type": "code",
   "execution_count": 31,
   "metadata": {},
   "outputs": [
    {
     "data": {
      "text/plain": [
       "Counter({'Cash loans': 278232, 'Revolving loans': 29279})"
      ]
     },
     "execution_count": 31,
     "metadata": {},
     "output_type": "execute_result"
    }
   ],
   "source": [
    "collections.Counter(data_train['NAME_CONTRACT_TYPE'])"
   ]
  },
  {
   "cell_type": "markdown",
   "metadata": {},
   "source": [
    "### CODE_GENDER\n"
   ]
  },
  {
   "cell_type": "code",
   "execution_count": 32,
   "metadata": {},
   "outputs": [
    {
     "data": {
      "text/plain": [
       "Counter({'F': 202448, 'M': 105059, 'XNA': 4})"
      ]
     },
     "execution_count": 32,
     "metadata": {},
     "output_type": "execute_result"
    }
   ],
   "source": [
    "collections.Counter(data_train['CODE_GENDER'])"
   ]
  },
  {
   "cell_type": "markdown",
   "metadata": {},
   "source": [
    "### FLAG_OWN_CAR"
   ]
  },
  {
   "cell_type": "code",
   "execution_count": 33,
   "metadata": {},
   "outputs": [
    {
     "data": {
      "text/plain": [
       "Counter({'N': 202924, 'Y': 104587})"
      ]
     },
     "execution_count": 33,
     "metadata": {},
     "output_type": "execute_result"
    }
   ],
   "source": [
    "collections.Counter(data_train['FLAG_OWN_CAR'])"
   ]
  },
  {
   "cell_type": "markdown",
   "metadata": {},
   "source": [
    "### FLAG_OWN_REALTY"
   ]
  },
  {
   "cell_type": "code",
   "execution_count": 35,
   "metadata": {},
   "outputs": [
    {
     "data": {
      "text/plain": [
       "Counter({'N': 94199, 'Y': 213312})"
      ]
     },
     "execution_count": 35,
     "metadata": {},
     "output_type": "execute_result"
    }
   ],
   "source": [
    "collections.Counter(data_train['FLAG_OWN_REALTY'])"
   ]
  },
  {
   "cell_type": "code",
   "execution_count": 178,
   "metadata": {
    "scrolled": false
   },
   "outputs": [
    {
     "name": "stdout",
     "output_type": "stream",
     "text": [
      "1\n",
      "NAME_CONTRACT_TYPE\n",
      "Counter({'Cash loans': 278232, 'Revolving loans': 29279})\n",
      "Length 2\n",
      "--------\n",
      "2\n",
      "CODE_GENDER\n",
      "Counter({'F': 202448, 'M': 105059, 'XNA': 4})\n",
      "Length 3\n",
      "--------\n",
      "3\n",
      "FLAG_OWN_CAR\n",
      "Counter({'N': 202924, 'Y': 104587})\n",
      "Length 2\n",
      "--------\n",
      "4\n",
      "FLAG_OWN_REALTY\n",
      "Counter({'Y': 213312, 'N': 94199})\n",
      "Length 2\n",
      "--------\n",
      "5\n",
      "NAME_TYPE_SUITE\n",
      "Counter({'Unaccompanied': 248526, 'Family': 40149, 'Spouse, partner': 11370, 'Children': 3267, 'Other_B': 1770, nan: 1292, 'Other_A': 866, 'Group of people': 271})\n",
      "Length 8\n",
      "--------\n",
      "6\n",
      "NAME_INCOME_TYPE\n",
      "Counter({'Working': 158774, 'Commercial associate': 71617, 'Pensioner': 55362, 'State servant': 21703, 'Unemployed': 22, 'Student': 18, 'Businessman': 10, 'Maternity leave': 5})\n",
      "Length 8\n",
      "--------\n",
      "7\n",
      "NAME_EDUCATION_TYPE\n",
      "Counter({'Secondary / secondary special': 218391, 'Higher education': 74863, 'Incomplete higher': 10277, 'Lower secondary': 3816, 'Academic degree': 164})\n",
      "Length 5\n",
      "--------\n",
      "8\n",
      "NAME_FAMILY_STATUS\n",
      "Counter({'Married': 196432, 'Single / not married': 45444, 'Civil marriage': 29775, 'Separated': 19770, 'Widow': 16088, 'Unknown': 2})\n",
      "Length 6\n",
      "--------\n",
      "9\n",
      "NAME_HOUSING_TYPE\n",
      "Counter({'House / apartment': 272868, 'With parents': 14840, 'Municipal apartment': 11183, 'Rented apartment': 4881, 'Office apartment': 2617, 'Co-op apartment': 1122})\n",
      "Length 6\n",
      "--------\n",
      "10\n",
      "OCCUPATION_TYPE\n",
      "Counter({nan: 96391, 'Laborers': 55186, 'Sales staff': 32102, 'Core staff': 27570, 'Managers': 21371, 'Drivers': 18603, 'High skill tech staff': 11380, 'Accountants': 9813, 'Medicine staff': 8537, 'Security staff': 6721, 'Cooking staff': 5946, 'Cleaning staff': 4653, 'Private service staff': 2652, 'Low-skill Laborers': 2093, 'Waiters/barmen staff': 1348, 'Secretaries': 1305, 'Realty agents': 751, 'HR staff': 563, 'IT staff': 526})\n",
      "Length 19\n",
      "--------\n",
      "11\n",
      "WEEKDAY_APPR_PROCESS_START\n",
      "Counter({'TUESDAY': 53901, 'WEDNESDAY': 51934, 'MONDAY': 50714, 'THURSDAY': 50591, 'FRIDAY': 50338, 'SATURDAY': 33852, 'SUNDAY': 16181})\n",
      "Length 7\n",
      "--------\n",
      "12\n",
      "ORGANIZATION_TYPE\n",
      "Counter({'Business Entity Type 3': 67992, 'XNA': 55374, 'Self-employed': 38412, 'Other': 16683, 'Medicine': 11193, 'Business Entity Type 2': 10553, 'Government': 10404, 'School': 8893, 'Trade: type 7': 7831, 'Kindergarten': 6880, 'Construction': 6721, 'Business Entity Type 1': 5984, 'Transport: type 4': 5398, 'Trade: type 3': 3492, 'Industry: type 9': 3368, 'Industry: type 3': 3278, 'Security': 3247, 'Housing': 2958, 'Industry: type 11': 2704, 'Military': 2634, 'Bank': 2507, 'Agriculture': 2454, 'Police': 2341, 'Transport: type 2': 2204, 'Postal': 2157, 'Security Ministries': 1974, 'Trade: type 2': 1900, 'Restaurant': 1811, 'Services': 1575, 'University': 1327, 'Industry: type 7': 1307, 'Transport: type 3': 1187, 'Industry: type 1': 1039, 'Hotel': 966, 'Electricity': 950, 'Industry: type 4': 877, 'Trade: type 6': 631, 'Industry: type 5': 599, 'Insurance': 597, 'Telecom': 577, 'Emergency': 560, 'Industry: type 2': 458, 'Advertising': 429, 'Realtor': 396, 'Culture': 379, 'Industry: type 12': 369, 'Trade: type 1': 348, 'Mobile': 317, 'Legal Services': 305, 'Cleaning': 260, 'Transport: type 1': 201, 'Industry: type 6': 112, 'Industry: type 10': 109, 'Religion': 85, 'Industry: type 13': 67, 'Trade: type 4': 64, 'Trade: type 5': 49, 'Industry: type 8': 24})\n",
      "Length 58\n",
      "--------\n",
      "13\n",
      "FONDKAPREMONT_MODE\n",
      "Counter({nan: 210295, 'reg oper account': 73830, 'reg oper spec account': 12080, 'not specified': 5687, 'org spec account': 5619})\n",
      "Length 5\n",
      "--------\n",
      "14\n",
      "HOUSETYPE_MODE\n",
      "Counter({nan: 154297, 'block of flats': 150503, 'specific housing': 1499, 'terraced house': 1212})\n",
      "Length 4\n",
      "--------\n",
      "15\n",
      "WALLSMATERIAL_MODE\n",
      "Counter({nan: 156341, 'Panel': 66040, 'Stone, brick': 64815, 'Block': 9253, 'Wooden': 5362, 'Mixed': 2296, 'Monolithic': 1779, 'Others': 1625})\n",
      "Length 8\n",
      "--------\n",
      "16\n",
      "EMERGENCYSTATE_MODE\n",
      "Counter({'No': 159428, nan: 145755, 'Yes': 2328})\n",
      "Length 3\n",
      "--------\n"
     ]
    }
   ],
   "source": [
    "i = 1\n",
    "for col in data_train.columns:\n",
    "    if data_train.dtypes[col] == 'O':\n",
    "        print(i)\n",
    "        print(col)\n",
    "        print(collections.Counter(data_train[col]))\n",
    "        print('Length', len(collections.Counter(data_train[col]).keys()))\n",
    "        print('--------')\n",
    "        i = i + 1"
   ]
  },
  {
   "cell_type": "code",
   "execution_count": 161,
   "metadata": {},
   "outputs": [],
   "source": [
    "def test_train_collection(data_train, data_test, col_name):\n",
    "    name = col_name \n",
    "    collection_test = collections.Counter(data_test[name])\n",
    "    collection_train = collections.Counter(data_train[name])\n",
    "    print('====Test columns====')\n",
    "\n",
    "    for test_element in collection_test.keys() :\n",
    "        if test_element in collection_train.keys():\n",
    "            print(test_element)\n",
    "            print(collection_train[test_element], collection_test[test_element])\n",
    "        else:\n",
    "            print('----Non Exist.----')\n",
    "            print(test_element)\n",
    "    print('====Needless train columns====')\n",
    "    for train_element in collection_train.keys():\n",
    "        if not(train_element in collection_test.keys()):\n",
    "            print(train_element)"
   ]
  },
  {
   "cell_type": "code",
   "execution_count": 191,
   "metadata": {
    "scrolled": false
   },
   "outputs": [],
   "source": [
    "def category_information(data, col_name):\n",
    "    name = col_name\n",
    "    data_train = data.copy()\n",
    "    collection_data = collections.Counter(data_train[name])\n",
    "    rate_list = []\n",
    "    data_list = list(collection_data.keys())\n",
    "    data_len = [collection_data[k] for k in data_list]\n",
    "    for element in data_list:\n",
    "        for_rate = data_train[data_train[name] == element].TARGET\n",
    "        if len(for_rate) == 0:\n",
    "            for_rate = data_train[data_train[name].isnull()].TARGET\n",
    "            rate = for_rate.sum() / len(for_rate)\n",
    "        else:\n",
    "            rate = for_rate.sum() / len(for_rate)\n",
    "        rate_list.append(rate)\n",
    "    df = pd.DataFrame()\n",
    "    df['rate'] = rate_list\n",
    "    df['element'] = [str(key) for key in data_list]\n",
    "    df['length'] = data_len                                     \n",
    "    df = df.sort_values('rate', ascending=False).reset_index(drop=True)\n",
    "    print(name)\n",
    "    print(df)\n",
    "    rcParams['figure.figsize'] = 13, 4\n",
    "    plt.bar(df.element, df.rate)\n",
    "    plt.ylim(df.rate.min()-df.rate.mean()/10)\n",
    "    plt.ylabel('rate')\n",
    "    return df"
   ]
  },
  {
   "cell_type": "markdown",
   "metadata": {},
   "source": [
    "### NAME_TYPE_SUITE"
   ]
  },
  {
   "cell_type": "code",
   "execution_count": 192,
   "metadata": {
    "scrolled": false
   },
   "outputs": [
    {
     "name": "stdout",
     "output_type": "stream",
     "text": [
      "NAME_TYPE_SUITE\n",
      "       rate          element  length\n",
      "0  0.098305          Other_B    1770\n",
      "1  0.087760          Other_A     866\n",
      "2  0.084871  Group of people     271\n",
      "3  0.081830    Unaccompanied  248526\n",
      "4  0.078716  Spouse, partner   11370\n",
      "5  0.074946           Family   40149\n",
      "6  0.073768         Children    3267\n",
      "7  0.054180              nan    1292\n"
     ]
    },
    {
     "data": {
      "text/html": [
       "<div>\n",
       "<style>\n",
       "    .dataframe thead tr:only-child th {\n",
       "        text-align: right;\n",
       "    }\n",
       "\n",
       "    .dataframe thead th {\n",
       "        text-align: left;\n",
       "    }\n",
       "\n",
       "    .dataframe tbody tr th {\n",
       "        vertical-align: top;\n",
       "    }\n",
       "</style>\n",
       "<table border=\"1\" class=\"dataframe\">\n",
       "  <thead>\n",
       "    <tr style=\"text-align: right;\">\n",
       "      <th></th>\n",
       "      <th>rate</th>\n",
       "      <th>element</th>\n",
       "      <th>length</th>\n",
       "    </tr>\n",
       "  </thead>\n",
       "  <tbody>\n",
       "    <tr>\n",
       "      <th>0</th>\n",
       "      <td>0.098305</td>\n",
       "      <td>Other_B</td>\n",
       "      <td>1770</td>\n",
       "    </tr>\n",
       "    <tr>\n",
       "      <th>1</th>\n",
       "      <td>0.087760</td>\n",
       "      <td>Other_A</td>\n",
       "      <td>866</td>\n",
       "    </tr>\n",
       "    <tr>\n",
       "      <th>2</th>\n",
       "      <td>0.084871</td>\n",
       "      <td>Group of people</td>\n",
       "      <td>271</td>\n",
       "    </tr>\n",
       "    <tr>\n",
       "      <th>3</th>\n",
       "      <td>0.081830</td>\n",
       "      <td>Unaccompanied</td>\n",
       "      <td>248526</td>\n",
       "    </tr>\n",
       "    <tr>\n",
       "      <th>4</th>\n",
       "      <td>0.078716</td>\n",
       "      <td>Spouse, partner</td>\n",
       "      <td>11370</td>\n",
       "    </tr>\n",
       "    <tr>\n",
       "      <th>5</th>\n",
       "      <td>0.074946</td>\n",
       "      <td>Family</td>\n",
       "      <td>40149</td>\n",
       "    </tr>\n",
       "    <tr>\n",
       "      <th>6</th>\n",
       "      <td>0.073768</td>\n",
       "      <td>Children</td>\n",
       "      <td>3267</td>\n",
       "    </tr>\n",
       "    <tr>\n",
       "      <th>7</th>\n",
       "      <td>0.054180</td>\n",
       "      <td>nan</td>\n",
       "      <td>1292</td>\n",
       "    </tr>\n",
       "  </tbody>\n",
       "</table>\n",
       "</div>"
      ],
      "text/plain": [
       "       rate          element  length\n",
       "0  0.098305          Other_B    1770\n",
       "1  0.087760          Other_A     866\n",
       "2  0.084871  Group of people     271\n",
       "3  0.081830    Unaccompanied  248526\n",
       "4  0.078716  Spouse, partner   11370\n",
       "5  0.074946           Family   40149\n",
       "6  0.073768         Children    3267\n",
       "7  0.054180              nan    1292"
      ]
     },
     "execution_count": 192,
     "metadata": {},
     "output_type": "execute_result"
    },
    {
     "data": {
      "image/png": "[encoded data removed]",
      "text/plain": [
       "<matplotlib.figure.Figure at 0x20f333c4b38>"
      ]
     },
     "metadata": {},
     "output_type": "display_data"
    }
   ],
   "source": [
    "category_information(data_train, 'NAME_TYPE_SUITE')"
   ]
  },
  {
   "cell_type": "code",
   "execution_count": 164,
   "metadata": {},
   "outputs": [
    {
     "name": "stdout",
     "output_type": "stream",
     "text": [
      "====Test columns====\n",
      "Unaccompanied\n",
      "248526 39727\n",
      "nan\n",
      "1292 911\n",
      "Family\n",
      "40149 5881\n",
      "Spouse, partner\n",
      "11370 1448\n",
      "Group of people\n",
      "271 49\n",
      "Other_B\n",
      "1770 211\n",
      "Children\n",
      "3267 408\n",
      "Other_A\n",
      "866 109\n",
      "====Needless train columns====\n"
     ]
    }
   ],
   "source": [
    "test_train_collection(data_train, data_test, 'NAME_TYPE_SUITE')"
   ]
  },
  {
   "cell_type": "code",
   "execution_count": null,
   "metadata": {
    "collapsed": true
   },
   "outputs": [],
   "source": [
    "[['Children', 'Family'],\n",
    " ['Spouse, partner', 'Unaccompanied'],\n",
    " ['Group of people', 'Other_A'],\n",
    " ['Other_B']]"
   ]
  },
  {
   "cell_type": "code",
   "execution_count": 181,
   "metadata": {},
   "outputs": [
    {
     "data": {
      "text/plain": [
       "0           Unaccompanied\n",
       "1                       1\n",
       "2           Unaccompanied\n",
       "3           Unaccompanied\n",
       "4           Unaccompanied\n",
       "5         Spouse, partner\n",
       "6           Unaccompanied\n",
       "7           Unaccompanied\n",
       "8                       1\n",
       "9           Unaccompanied\n",
       "10          Unaccompanied\n",
       "11                      1\n",
       "12          Unaccompanied\n",
       "13          Unaccompanied\n",
       "14          Unaccompanied\n",
       "15                      1\n",
       "16          Unaccompanied\n",
       "17          Unaccompanied\n",
       "18                Other_A\n",
       "19          Unaccompanied\n",
       "20          Unaccompanied\n",
       "21          Unaccompanied\n",
       "22          Unaccompanied\n",
       "23          Unaccompanied\n",
       "24          Unaccompanied\n",
       "25          Unaccompanied\n",
       "26          Unaccompanied\n",
       "27                      1\n",
       "28          Unaccompanied\n",
       "29          Unaccompanied\n",
       "               ...       \n",
       "307481                  1\n",
       "307482      Unaccompanied\n",
       "307483      Unaccompanied\n",
       "307484      Unaccompanied\n",
       "307485                  1\n",
       "307486      Unaccompanied\n",
       "307487      Unaccompanied\n",
       "307488      Unaccompanied\n",
       "307489      Unaccompanied\n",
       "307490      Unaccompanied\n",
       "307491      Unaccompanied\n",
       "307492      Unaccompanied\n",
       "307493      Unaccompanied\n",
       "307494                  1\n",
       "307495      Unaccompanied\n",
       "307496                  1\n",
       "307497      Unaccompanied\n",
       "307498      Unaccompanied\n",
       "307499      Unaccompanied\n",
       "307500      Unaccompanied\n",
       "307501      Unaccompanied\n",
       "307502      Unaccompanied\n",
       "307503      Unaccompanied\n",
       "307504      Unaccompanied\n",
       "307505      Unaccompanied\n",
       "307506      Unaccompanied\n",
       "307507      Unaccompanied\n",
       "307508      Unaccompanied\n",
       "307509      Unaccompanied\n",
       "307510      Unaccompanied\n",
       "Name: NAME_TYPE_SUITE, Length: 307511, dtype: object"
      ]
     },
     "execution_count": 181,
     "metadata": {},
     "output_type": "execute_result"
    }
   ],
   "source": [
    "data_train['NAME_TYPE_SUITE'].replace('Children', 1).replace('Family', 1)`"
   ]
  },
  {
   "cell_type": "markdown",
   "metadata": {},
   "source": [
    "### NAME_INCOME_TYPE"
   ]
  },
  {
   "cell_type": "code",
   "execution_count": 147,
   "metadata": {
    "scrolled": false
   },
   "outputs": [
    {
     "name": "stdout",
     "output_type": "stream",
     "text": [
      "NAME_INCOME_TYPE\n"
     ]
    },
    {
     "data": {
      "text/html": [
       "<div>\n",
       "<style>\n",
       "    .dataframe thead tr:only-child th {\n",
       "        text-align: right;\n",
       "    }\n",
       "\n",
       "    .dataframe thead th {\n",
       "        text-align: left;\n",
       "    }\n",
       "\n",
       "    .dataframe tbody tr th {\n",
       "        vertical-align: top;\n",
       "    }\n",
       "</style>\n",
       "<table border=\"1\" class=\"dataframe\">\n",
       "  <thead>\n",
       "    <tr style=\"text-align: right;\">\n",
       "      <th></th>\n",
       "      <th>rate</th>\n",
       "      <th>element</th>\n",
       "      <th>length</th>\n",
       "    </tr>\n",
       "  </thead>\n",
       "  <tbody>\n",
       "    <tr>\n",
       "      <th>7</th>\n",
       "      <td>0.400000</td>\n",
       "      <td>Maternity leave</td>\n",
       "      <td>5</td>\n",
       "    </tr>\n",
       "    <tr>\n",
       "      <th>4</th>\n",
       "      <td>0.363636</td>\n",
       "      <td>Unemployed</td>\n",
       "      <td>22</td>\n",
       "    </tr>\n",
       "    <tr>\n",
       "      <th>0</th>\n",
       "      <td>0.095885</td>\n",
       "      <td>Working</td>\n",
       "      <td>158774</td>\n",
       "    </tr>\n",
       "    <tr>\n",
       "      <th>2</th>\n",
       "      <td>0.074843</td>\n",
       "      <td>Commercial associate</td>\n",
       "      <td>71617</td>\n",
       "    </tr>\n",
       "    <tr>\n",
       "      <th>1</th>\n",
       "      <td>0.057550</td>\n",
       "      <td>State servant</td>\n",
       "      <td>21703</td>\n",
       "    </tr>\n",
       "    <tr>\n",
       "      <th>3</th>\n",
       "      <td>0.053864</td>\n",
       "      <td>Pensioner</td>\n",
       "      <td>55362</td>\n",
       "    </tr>\n",
       "    <tr>\n",
       "      <th>5</th>\n",
       "      <td>0.000000</td>\n",
       "      <td>Student</td>\n",
       "      <td>18</td>\n",
       "    </tr>\n",
       "    <tr>\n",
       "      <th>6</th>\n",
       "      <td>0.000000</td>\n",
       "      <td>Businessman</td>\n",
       "      <td>10</td>\n",
       "    </tr>\n",
       "  </tbody>\n",
       "</table>\n",
       "</div>"
      ],
      "text/plain": [
       "       rate               element  length\n",
       "7  0.400000       Maternity leave       5\n",
       "4  0.363636            Unemployed      22\n",
       "0  0.095885               Working  158774\n",
       "2  0.074843  Commercial associate   71617\n",
       "1  0.057550         State servant   21703\n",
       "3  0.053864             Pensioner   55362\n",
       "5  0.000000               Student      18\n",
       "6  0.000000           Businessman      10"
      ]
     },
     "execution_count": 147,
     "metadata": {},
     "output_type": "execute_result"
    },
    {
     "data": {
      "image/png": "[encoded data removed]",
      "text/plain": [
       "<matplotlib.figure.Figure at 0x20f320d25f8>"
      ]
     },
     "metadata": {},
     "output_type": "display_data"
    }
   ],
   "source": [
    "category_information(data_train, 'NAME_INCOME_TYPE')"
   ]
  },
  {
   "cell_type": "code",
   "execution_count": 165,
   "metadata": {},
   "outputs": [
    {
     "name": "stdout",
     "output_type": "stream",
     "text": [
      "====Test columns====\n",
      "Working\n",
      "158774 24533\n",
      "State servant\n",
      "21703 3532\n",
      "Pensioner\n",
      "55362 9273\n",
      "Commercial associate\n",
      "71617 11402\n",
      "Businessman\n",
      "10 1\n",
      "Student\n",
      "18 2\n",
      "Unemployed\n",
      "22 1\n",
      "====Needless train columns====\n",
      "Maternity leave\n"
     ]
    }
   ],
   "source": [
    "test_train_collection(data_train, data_test, 'NAME_INCOME_TYPE')"
   ]
  },
  {
   "cell_type": "markdown",
   "metadata": {},
   "source": [
    "### NAME_EDUCATION_TYPE"
   ]
  },
  {
   "cell_type": "code",
   "execution_count": 166,
   "metadata": {},
   "outputs": [
    {
     "name": "stdout",
     "output_type": "stream",
     "text": [
      "NAME_EDUCATION_TYPE\n"
     ]
    },
    {
     "data": {
      "text/html": [
       "<div>\n",
       "<style>\n",
       "    .dataframe thead tr:only-child th {\n",
       "        text-align: right;\n",
       "    }\n",
       "\n",
       "    .dataframe thead th {\n",
       "        text-align: left;\n",
       "    }\n",
       "\n",
       "    .dataframe tbody tr th {\n",
       "        vertical-align: top;\n",
       "    }\n",
       "</style>\n",
       "<table border=\"1\" class=\"dataframe\">\n",
       "  <thead>\n",
       "    <tr style=\"text-align: right;\">\n",
       "      <th></th>\n",
       "      <th>rate</th>\n",
       "      <th>element</th>\n",
       "      <th>length</th>\n",
       "    </tr>\n",
       "  </thead>\n",
       "  <tbody>\n",
       "    <tr>\n",
       "      <th>3</th>\n",
       "      <td>0.109277</td>\n",
       "      <td>Lower secondary</td>\n",
       "      <td>3816</td>\n",
       "    </tr>\n",
       "    <tr>\n",
       "      <th>0</th>\n",
       "      <td>0.089399</td>\n",
       "      <td>Secondary / secondary special</td>\n",
       "      <td>218391</td>\n",
       "    </tr>\n",
       "    <tr>\n",
       "      <th>2</th>\n",
       "      <td>0.084850</td>\n",
       "      <td>Incomplete higher</td>\n",
       "      <td>10277</td>\n",
       "    </tr>\n",
       "    <tr>\n",
       "      <th>1</th>\n",
       "      <td>0.053551</td>\n",
       "      <td>Higher education</td>\n",
       "      <td>74863</td>\n",
       "    </tr>\n",
       "    <tr>\n",
       "      <th>4</th>\n",
       "      <td>0.018293</td>\n",
       "      <td>Academic degree</td>\n",
       "      <td>164</td>\n",
       "    </tr>\n",
       "  </tbody>\n",
       "</table>\n",
       "</div>"
      ],
      "text/plain": [
       "       rate                        element  length\n",
       "3  0.109277                Lower secondary    3816\n",
       "0  0.089399  Secondary / secondary special  218391\n",
       "2  0.084850              Incomplete higher   10277\n",
       "1  0.053551               Higher education   74863\n",
       "4  0.018293                Academic degree     164"
      ]
     },
     "execution_count": 166,
     "metadata": {},
     "output_type": "execute_result"
    },
    {
     "data": {
      "image/png": "[encoded data removed]",
      "text/plain": [
       "<matplotlib.figure.Figure at 0x20f1218b748>"
      ]
     },
     "metadata": {},
     "output_type": "display_data"
    }
   ],
   "source": [
    "category_information(data_train, 'NAME_EDUCATION_TYPE')"
   ]
  },
  {
   "cell_type": "code",
   "execution_count": 167,
   "metadata": {},
   "outputs": [
    {
     "name": "stdout",
     "output_type": "stream",
     "text": [
      "====Test columns====\n",
      "Higher education\n",
      "74863 12516\n",
      "Secondary / secondary special\n",
      "218391 33988\n",
      "Incomplete higher\n",
      "10277 1724\n",
      "Lower secondary\n",
      "3816 475\n",
      "Academic degree\n",
      "164 41\n",
      "====Needless train columns====\n"
     ]
    }
   ],
   "source": [
    "test_train_collection(data_train, data_test, 'NAME_EDUCATION_TYPE')"
   ]
  },
  {
   "cell_type": "markdown",
   "metadata": {},
   "source": [
    "### NAME_FAMILY_STATUS"
   ]
  },
  {
   "cell_type": "code",
   "execution_count": 168,
   "metadata": {},
   "outputs": [
    {
     "name": "stdout",
     "output_type": "stream",
     "text": [
      "NAME_FAMILY_STATUS\n"
     ]
    },
    {
     "data": {
      "text/html": [
       "<div>\n",
       "<style>\n",
       "    .dataframe thead tr:only-child th {\n",
       "        text-align: right;\n",
       "    }\n",
       "\n",
       "    .dataframe thead th {\n",
       "        text-align: left;\n",
       "    }\n",
       "\n",
       "    .dataframe tbody tr th {\n",
       "        vertical-align: top;\n",
       "    }\n",
       "</style>\n",
       "<table border=\"1\" class=\"dataframe\">\n",
       "  <thead>\n",
       "    <tr style=\"text-align: right;\">\n",
       "      <th></th>\n",
       "      <th>rate</th>\n",
       "      <th>element</th>\n",
       "      <th>length</th>\n",
       "    </tr>\n",
       "  </thead>\n",
       "  <tbody>\n",
       "    <tr>\n",
       "      <th>2</th>\n",
       "      <td>0.099446</td>\n",
       "      <td>Civil marriage</td>\n",
       "      <td>29775</td>\n",
       "    </tr>\n",
       "    <tr>\n",
       "      <th>0</th>\n",
       "      <td>0.098077</td>\n",
       "      <td>Single / not married</td>\n",
       "      <td>45444</td>\n",
       "    </tr>\n",
       "    <tr>\n",
       "      <th>4</th>\n",
       "      <td>0.081942</td>\n",
       "      <td>Separated</td>\n",
       "      <td>19770</td>\n",
       "    </tr>\n",
       "    <tr>\n",
       "      <th>1</th>\n",
       "      <td>0.075599</td>\n",
       "      <td>Married</td>\n",
       "      <td>196432</td>\n",
       "    </tr>\n",
       "    <tr>\n",
       "      <th>3</th>\n",
       "      <td>0.058242</td>\n",
       "      <td>Widow</td>\n",
       "      <td>16088</td>\n",
       "    </tr>\n",
       "    <tr>\n",
       "      <th>5</th>\n",
       "      <td>0.000000</td>\n",
       "      <td>Unknown</td>\n",
       "      <td>2</td>\n",
       "    </tr>\n",
       "  </tbody>\n",
       "</table>\n",
       "</div>"
      ],
      "text/plain": [
       "       rate               element  length\n",
       "2  0.099446        Civil marriage   29775\n",
       "0  0.098077  Single / not married   45444\n",
       "4  0.081942             Separated   19770\n",
       "1  0.075599               Married  196432\n",
       "3  0.058242                 Widow   16088\n",
       "5  0.000000               Unknown       2"
      ]
     },
     "execution_count": 168,
     "metadata": {},
     "output_type": "execute_result"
    },
    {
     "data": {
      "image/png": "[encoded data removed]",
      "text/plain": [
       "<matplotlib.figure.Figure at 0x20f121e2518>"
      ]
     },
     "metadata": {},
     "output_type": "display_data"
    }
   ],
   "source": [
    "category_information(data_train, 'NAME_FAMILY_STATUS')"
   ]
  },
  {
   "cell_type": "code",
   "execution_count": 169,
   "metadata": {},
   "outputs": [
    {
     "name": "stdout",
     "output_type": "stream",
     "text": [
      "====Test columns====\n",
      "Married\n",
      "196432 32283\n",
      "Single / not married\n",
      "45444 7036\n",
      "Civil marriage\n",
      "29775 4261\n",
      "Widow\n",
      "16088 2209\n",
      "Separated\n",
      "19770 2955\n",
      "====Needless train columns====\n",
      "Unknown\n"
     ]
    }
   ],
   "source": [
    "test_train_collection(data_train, data_test, 'NAME_FAMILY_STATUS')"
   ]
  },
  {
   "cell_type": "markdown",
   "metadata": {},
   "source": [
    "### NAME_HOUSING_TYPE"
   ]
  },
  {
   "cell_type": "code",
   "execution_count": 108,
   "metadata": {
    "scrolled": false
   },
   "outputs": [
    {
     "name": "stdout",
     "output_type": "stream",
     "text": [
      "NAME_HOUSING_TYPE\n"
     ]
    },
    {
     "data": {
      "text/html": [
       "<div>\n",
       "<style>\n",
       "    .dataframe thead tr:only-child th {\n",
       "        text-align: right;\n",
       "    }\n",
       "\n",
       "    .dataframe thead th {\n",
       "        text-align: left;\n",
       "    }\n",
       "\n",
       "    .dataframe tbody tr th {\n",
       "        vertical-align: top;\n",
       "    }\n",
       "</style>\n",
       "<table border=\"1\" class=\"dataframe\">\n",
       "  <thead>\n",
       "    <tr style=\"text-align: right;\">\n",
       "      <th></th>\n",
       "      <th>rate</th>\n",
       "      <th>element</th>\n",
       "      <th>length</th>\n",
       "    </tr>\n",
       "  </thead>\n",
       "  <tbody>\n",
       "    <tr>\n",
       "      <th>1</th>\n",
       "      <td>0.123131</td>\n",
       "      <td>Rented apartment</td>\n",
       "      <td>4881</td>\n",
       "    </tr>\n",
       "    <tr>\n",
       "      <th>2</th>\n",
       "      <td>0.116981</td>\n",
       "      <td>With parents</td>\n",
       "      <td>14840</td>\n",
       "    </tr>\n",
       "    <tr>\n",
       "      <th>3</th>\n",
       "      <td>0.085397</td>\n",
       "      <td>Municipal apartment</td>\n",
       "      <td>11183</td>\n",
       "    </tr>\n",
       "    <tr>\n",
       "      <th>5</th>\n",
       "      <td>0.079323</td>\n",
       "      <td>Co-op apartment</td>\n",
       "      <td>1122</td>\n",
       "    </tr>\n",
       "    <tr>\n",
       "      <th>0</th>\n",
       "      <td>0.077957</td>\n",
       "      <td>House / apartment</td>\n",
       "      <td>272868</td>\n",
       "    </tr>\n",
       "    <tr>\n",
       "      <th>4</th>\n",
       "      <td>0.065724</td>\n",
       "      <td>Office apartment</td>\n",
       "      <td>2617</td>\n",
       "    </tr>\n",
       "  </tbody>\n",
       "</table>\n",
       "</div>"
      ],
      "text/plain": [
       "       rate              element  length\n",
       "1  0.123131     Rented apartment    4881\n",
       "2  0.116981         With parents   14840\n",
       "3  0.085397  Municipal apartment   11183\n",
       "5  0.079323      Co-op apartment    1122\n",
       "0  0.077957    House / apartment  272868\n",
       "4  0.065724     Office apartment    2617"
      ]
     },
     "execution_count": 108,
     "metadata": {},
     "output_type": "execute_result"
    },
    {
     "data": {
      "image/png": "[encoded data removed]",
      "text/plain": [
       "<matplotlib.figure.Figure at 0x20f3222d390>"
      ]
     },
     "metadata": {},
     "output_type": "display_data"
    }
   ],
   "source": [
    "category_information(data_train, 'NAME_HOUSING_TYPE')"
   ]
  },
  {
   "cell_type": "code",
   "execution_count": 170,
   "metadata": {},
   "outputs": [
    {
     "name": "stdout",
     "output_type": "stream",
     "text": [
      "====Test columns====\n",
      "House / apartment\n",
      "272868 43645\n",
      "With parents\n",
      "14840 2234\n",
      "Rented apartment\n",
      "4881 718\n",
      "Municipal apartment\n",
      "11183 1617\n",
      "Office apartment\n",
      "2617 407\n",
      "Co-op apartment\n",
      "1122 123\n",
      "====Needless train columns====\n"
     ]
    }
   ],
   "source": [
    "test_train_collection(data_train, data_test, 'NAME_HOUSING_TYPE')"
   ]
  },
  {
   "cell_type": "markdown",
   "metadata": {},
   "source": [
    "### OCCUPATION_TYPE"
   ]
  },
  {
   "cell_type": "code",
   "execution_count": 109,
   "metadata": {},
   "outputs": [
    {
     "name": "stdout",
     "output_type": "stream",
     "text": [
      "OCCUPATION_TYPE\n"
     ]
    },
    {
     "data": {
      "text/html": [
       "<div>\n",
       "<style>\n",
       "    .dataframe thead tr:only-child th {\n",
       "        text-align: right;\n",
       "    }\n",
       "\n",
       "    .dataframe thead th {\n",
       "        text-align: left;\n",
       "    }\n",
       "\n",
       "    .dataframe tbody tr th {\n",
       "        vertical-align: top;\n",
       "    }\n",
       "</style>\n",
       "<table border=\"1\" class=\"dataframe\">\n",
       "  <thead>\n",
       "    <tr style=\"text-align: right;\">\n",
       "      <th></th>\n",
       "      <th>rate</th>\n",
       "      <th>element</th>\n",
       "      <th>length</th>\n",
       "    </tr>\n",
       "  </thead>\n",
       "  <tbody>\n",
       "    <tr>\n",
       "      <th>14</th>\n",
       "      <td>0.171524</td>\n",
       "      <td>Low-skill Laborers</td>\n",
       "      <td>2093</td>\n",
       "    </tr>\n",
       "    <tr>\n",
       "      <th>5</th>\n",
       "      <td>0.113261</td>\n",
       "      <td>Drivers</td>\n",
       "      <td>18603</td>\n",
       "    </tr>\n",
       "    <tr>\n",
       "      <th>13</th>\n",
       "      <td>0.112760</td>\n",
       "      <td>Waiters/barmen staff</td>\n",
       "      <td>1348</td>\n",
       "    </tr>\n",
       "    <tr>\n",
       "      <th>11</th>\n",
       "      <td>0.107424</td>\n",
       "      <td>Security staff</td>\n",
       "      <td>6721</td>\n",
       "    </tr>\n",
       "    <tr>\n",
       "      <th>0</th>\n",
       "      <td>0.105788</td>\n",
       "      <td>Laborers</td>\n",
       "      <td>55186</td>\n",
       "    </tr>\n",
       "    <tr>\n",
       "      <th>8</th>\n",
       "      <td>0.104440</td>\n",
       "      <td>Cooking staff</td>\n",
       "      <td>5946</td>\n",
       "    </tr>\n",
       "    <tr>\n",
       "      <th>6</th>\n",
       "      <td>0.096318</td>\n",
       "      <td>Sales staff</td>\n",
       "      <td>32102</td>\n",
       "    </tr>\n",
       "    <tr>\n",
       "      <th>7</th>\n",
       "      <td>0.096067</td>\n",
       "      <td>Cleaning staff</td>\n",
       "      <td>4653</td>\n",
       "    </tr>\n",
       "    <tr>\n",
       "      <th>15</th>\n",
       "      <td>0.078562</td>\n",
       "      <td>Realty agents</td>\n",
       "      <td>751</td>\n",
       "    </tr>\n",
       "    <tr>\n",
       "      <th>16</th>\n",
       "      <td>0.070498</td>\n",
       "      <td>Secretaries</td>\n",
       "      <td>1305</td>\n",
       "    </tr>\n",
       "    <tr>\n",
       "      <th>10</th>\n",
       "      <td>0.067002</td>\n",
       "      <td>Medicine staff</td>\n",
       "      <td>8537</td>\n",
       "    </tr>\n",
       "    <tr>\n",
       "      <th>9</th>\n",
       "      <td>0.065988</td>\n",
       "      <td>Private service staff</td>\n",
       "      <td>2652</td>\n",
       "    </tr>\n",
       "    <tr>\n",
       "      <th>4</th>\n",
       "      <td>0.065131</td>\n",
       "      <td>NaN</td>\n",
       "      <td>96391</td>\n",
       "    </tr>\n",
       "    <tr>\n",
       "      <th>17</th>\n",
       "      <td>0.064639</td>\n",
       "      <td>IT staff</td>\n",
       "      <td>526</td>\n",
       "    </tr>\n",
       "    <tr>\n",
       "      <th>18</th>\n",
       "      <td>0.063943</td>\n",
       "      <td>HR staff</td>\n",
       "      <td>563</td>\n",
       "    </tr>\n",
       "    <tr>\n",
       "      <th>1</th>\n",
       "      <td>0.063040</td>\n",
       "      <td>Core staff</td>\n",
       "      <td>27570</td>\n",
       "    </tr>\n",
       "    <tr>\n",
       "      <th>3</th>\n",
       "      <td>0.062140</td>\n",
       "      <td>Managers</td>\n",
       "      <td>21371</td>\n",
       "    </tr>\n",
       "    <tr>\n",
       "      <th>12</th>\n",
       "      <td>0.061599</td>\n",
       "      <td>High skill tech staff</td>\n",
       "      <td>11380</td>\n",
       "    </tr>\n",
       "    <tr>\n",
       "      <th>2</th>\n",
       "      <td>0.048303</td>\n",
       "      <td>Accountants</td>\n",
       "      <td>9813</td>\n",
       "    </tr>\n",
       "  </tbody>\n",
       "</table>\n",
       "</div>"
      ],
      "text/plain": [
       "        rate                element  length\n",
       "14  0.171524     Low-skill Laborers    2093\n",
       "5   0.113261                Drivers   18603\n",
       "13  0.112760   Waiters/barmen staff    1348\n",
       "11  0.107424         Security staff    6721\n",
       "0   0.105788               Laborers   55186\n",
       "8   0.104440          Cooking staff    5946\n",
       "6   0.096318            Sales staff   32102\n",
       "7   0.096067         Cleaning staff    4653\n",
       "15  0.078562          Realty agents     751\n",
       "16  0.070498            Secretaries    1305\n",
       "10  0.067002         Medicine staff    8537\n",
       "9   0.065988  Private service staff    2652\n",
       "4   0.065131                    NaN   96391\n",
       "17  0.064639               IT staff     526\n",
       "18  0.063943               HR staff     563\n",
       "1   0.063040             Core staff   27570\n",
       "3   0.062140               Managers   21371\n",
       "12  0.061599  High skill tech staff   11380\n",
       "2   0.048303            Accountants    9813"
      ]
     },
     "execution_count": 109,
     "metadata": {},
     "output_type": "execute_result"
    },
    {
     "data": {
      "image/png": "[encoded data removed]",
      "text/plain": [
       "<matplotlib.figure.Figure at 0x20f3219d438>"
      ]
     },
     "metadata": {},
     "output_type": "display_data"
    }
   ],
   "source": [
    "category_information(data_train, 'OCCUPATION_TYPE')"
   ]
  },
  {
   "cell_type": "code",
   "execution_count": 171,
   "metadata": {},
   "outputs": [
    {
     "name": "stdout",
     "output_type": "stream",
     "text": [
      "====Test columns====\n",
      "nan\n",
      "96391 15605\n",
      "Low-skill Laborers\n",
      "2093 272\n",
      "Drivers\n",
      "18603 2773\n",
      "Sales staff\n",
      "32102 5072\n",
      "High skill tech staff\n",
      "11380 1854\n",
      "Core staff\n",
      "27570 4361\n",
      "Laborers\n",
      "55186 8655\n",
      "Managers\n",
      "21371 3574\n",
      "Accountants\n",
      "9813 1628\n",
      "Medicine staff\n",
      "8537 1316\n",
      "Security staff\n",
      "6721 915\n",
      "Private service staff\n",
      "2652 455\n",
      "Secretaries\n",
      "1305 213\n",
      "Cleaning staff\n",
      "4653 656\n",
      "Cooking staff\n",
      "5946 894\n",
      "HR staff\n",
      "563 104\n",
      "Waiters/barmen staff\n",
      "1348 178\n",
      "Realty agents\n",
      "751 138\n",
      "IT staff\n",
      "526 81\n",
      "====Needless train columns====\n"
     ]
    }
   ],
   "source": [
    "test_train_collection(data_train, data_test, 'OCCUPATION_TYPE')"
   ]
  },
  {
   "cell_type": "markdown",
   "metadata": {},
   "source": [
    "### WEEKDAY_APPR_PROCESS_START"
   ]
  },
  {
   "cell_type": "code",
   "execution_count": 110,
   "metadata": {},
   "outputs": [
    {
     "name": "stdout",
     "output_type": "stream",
     "text": [
      "WEEKDAY_APPR_PROCESS_START\n"
     ]
    },
    {
     "data": {
      "text/html": [
       "<div>\n",
       "<style>\n",
       "    .dataframe thead tr:only-child th {\n",
       "        text-align: right;\n",
       "    }\n",
       "\n",
       "    .dataframe thead th {\n",
       "        text-align: left;\n",
       "    }\n",
       "\n",
       "    .dataframe tbody tr th {\n",
       "        vertical-align: top;\n",
       "    }\n",
       "</style>\n",
       "<table border=\"1\" class=\"dataframe\">\n",
       "  <thead>\n",
       "    <tr style=\"text-align: right;\">\n",
       "      <th></th>\n",
       "      <th>rate</th>\n",
       "      <th>element</th>\n",
       "      <th>length</th>\n",
       "    </tr>\n",
       "  </thead>\n",
       "  <tbody>\n",
       "    <tr>\n",
       "      <th>6</th>\n",
       "      <td>0.083505</td>\n",
       "      <td>TUESDAY</td>\n",
       "      <td>53901</td>\n",
       "    </tr>\n",
       "    <tr>\n",
       "      <th>0</th>\n",
       "      <td>0.081604</td>\n",
       "      <td>WEDNESDAY</td>\n",
       "      <td>51934</td>\n",
       "    </tr>\n",
       "    <tr>\n",
       "      <th>5</th>\n",
       "      <td>0.081469</td>\n",
       "      <td>FRIDAY</td>\n",
       "      <td>50338</td>\n",
       "    </tr>\n",
       "    <tr>\n",
       "      <th>2</th>\n",
       "      <td>0.081003</td>\n",
       "      <td>THURSDAY</td>\n",
       "      <td>50591</td>\n",
       "    </tr>\n",
       "    <tr>\n",
       "      <th>3</th>\n",
       "      <td>0.079291</td>\n",
       "      <td>SUNDAY</td>\n",
       "      <td>16181</td>\n",
       "    </tr>\n",
       "    <tr>\n",
       "      <th>4</th>\n",
       "      <td>0.078873</td>\n",
       "      <td>SATURDAY</td>\n",
       "      <td>33852</td>\n",
       "    </tr>\n",
       "    <tr>\n",
       "      <th>1</th>\n",
       "      <td>0.077572</td>\n",
       "      <td>MONDAY</td>\n",
       "      <td>50714</td>\n",
       "    </tr>\n",
       "  </tbody>\n",
       "</table>\n",
       "</div>"
      ],
      "text/plain": [
       "       rate    element  length\n",
       "6  0.083505    TUESDAY   53901\n",
       "0  0.081604  WEDNESDAY   51934\n",
       "5  0.081469     FRIDAY   50338\n",
       "2  0.081003   THURSDAY   50591\n",
       "3  0.079291     SUNDAY   16181\n",
       "4  0.078873   SATURDAY   33852\n",
       "1  0.077572     MONDAY   50714"
      ]
     },
     "execution_count": 110,
     "metadata": {},
     "output_type": "execute_result"
    },
    {
     "data": {
      "image/png": "[encoded data removed]",
      "text/plain": [
       "<matplotlib.figure.Figure at 0x20f3219c208>"
      ]
     },
     "metadata": {},
     "output_type": "display_data"
    }
   ],
   "source": [
    "category_information(data_train, 'WEEKDAY_APPR_PROCESS_START')"
   ]
  },
  {
   "cell_type": "code",
   "execution_count": 172,
   "metadata": {},
   "outputs": [
    {
     "name": "stdout",
     "output_type": "stream",
     "text": [
      "====Test columns====\n",
      "TUESDAY\n",
      "53901 9751\n",
      "FRIDAY\n",
      "50338 7250\n",
      "MONDAY\n",
      "50714 8406\n",
      "WEDNESDAY\n",
      "51934 8457\n",
      "THURSDAY\n",
      "50591 8418\n",
      "SATURDAY\n",
      "33852 4603\n",
      "SUNDAY\n",
      "16181 1859\n",
      "====Needless train columns====\n"
     ]
    }
   ],
   "source": [
    "test_train_collection(data_train, data_test, 'WEEKDAY_APPR_PROCESS_START')"
   ]
  },
  {
   "cell_type": "markdown",
   "metadata": {},
   "source": [
    "### ORGANIZATION_TYPE"
   ]
  },
  {
   "cell_type": "code",
   "execution_count": 193,
   "metadata": {
    "scrolled": false
   },
   "outputs": [
    {
     "name": "stdout",
     "output_type": "stream",
     "text": [
      "ORGANIZATION_TYPE\n",
      "        rate                 element  length\n",
      "0   0.157540       Transport: type 3    1187\n",
      "1   0.134328       Industry: type 13      67\n",
      "2   0.125000        Industry: type 8      24\n",
      "3   0.117062              Restaurant    1811\n",
      "4   0.116798            Construction    6721\n",
      "5   0.111538                Cleaning     260\n",
      "6   0.110683        Industry: type 1    1039\n",
      "7   0.106162        Industry: type 3    3278\n",
      "8   0.106061                 Realtor     396\n",
      "9   0.104727             Agriculture    2454\n",
      "10  0.103379           Trade: type 3    3492\n",
      "11  0.101739           Self-employed   38412\n",
      "12  0.101482        Industry: type 4     877\n",
      "13  0.099784                Security    3247\n",
      "14  0.094496           Trade: type 7    7831\n",
      "15  0.092996  Business Entity Type 3   67992\n",
      "16  0.092812       Transport: type 4    5398\n",
      "17  0.091483                  Mobile     317\n",
      "18  0.089080           Trade: type 1     348\n",
      "19  0.086538       Industry: type 11    2704\n",
      "20  0.085284  Business Entity Type 2   10553\n",
      "21  0.084376                  Postal    2157\n",
      "22  0.081585             Advertising     429\n",
      "23  0.081384  Business Entity Type 1    5984\n",
      "24  0.080337        Industry: type 7    1307\n",
      "25  0.079446                 Housing    2958\n",
      "26  0.078689          Legal Services     305\n",
      "27  0.078040       Transport: type 2    2204\n",
      "28  0.076425                   Other   16683\n",
      "29  0.076256                 Telecom     577\n",
      "30  0.072052        Industry: type 2     458\n",
      "31  0.071429        Industry: type 6     112\n",
      "32  0.071429               Emergency     560\n",
      "33  0.070349            Kindergarten    6880\n",
      "34  0.070000           Trade: type 2    1900\n",
      "35  0.069781              Government   10404\n",
      "36  0.068447        Industry: type 5     599\n",
      "37  0.066805        Industry: type 9    3368\n",
      "38  0.066316             Electricity     950\n",
      "39  0.066032                Services    1575\n",
      "40  0.065845                Medicine   11193\n",
      "41  0.064220       Industry: type 10     109\n",
      "42  0.064182                   Hotel     966\n",
      "43  0.061224           Trade: type 5      49\n",
      "44  0.059148                  School    8893\n",
      "45  0.058824                Religion      85\n",
      "46  0.056951               Insurance     597\n",
      "47  0.055409                 Culture     379\n",
      "48  0.053996                     XNA   55374\n",
      "49  0.051855                    Bank    2507\n",
      "50  0.051253                Military    2634\n",
      "51  0.049979                  Police    2341\n",
      "52  0.048983              University    1327\n",
      "53  0.048632     Security Ministries    1974\n",
      "54  0.045959           Trade: type 6     631\n",
      "55  0.044776       Transport: type 1     201\n",
      "56  0.037940       Industry: type 12     369\n",
      "57  0.031250           Trade: type 4      64\n"
     ]
    },
    {
     "data": {
      "image/png": "[encoded data removed]",
      "text/plain": [
       "<matplotlib.figure.Figure at 0x20f333b5eb8>"
      ]
     },
     "metadata": {},
     "output_type": "display_data"
    }
   ],
   "source": [
    "org_df = category_information(data_train, 'ORGANIZATION_TYPE')"
   ]
  },
  {
   "cell_type": "code",
   "execution_count": 202,
   "metadata": {},
   "outputs": [
    {
     "data": {
      "image/png": "[encoded data removed]",
      "text/plain": [
       "<matplotlib.figure.Figure at 0x20f3270de80>"
      ]
     },
     "metadata": {},
     "output_type": "display_data"
    },
    {
     "data": {
      "text/plain": [
       "array([ 9,  7,  8,  5,  5,  6,  6,  3,  3,  4,  4,  1,  1,  2, 30, 28, 28,\n",
       "       29, 33, 32, 31, 31, 25, 25, 27, 27, 26, 26, 24, 24, 21, 21, 21, 22,\n",
       "       22, 22, 23, 20, 20, 20, 20, 19, 19, 15, 13, 13, 14, 12, 12, 17, 17,\n",
       "       18, 18, 18, 16, 16, 10, 11], dtype=int32)"
      ]
     },
     "execution_count": 202,
     "metadata": {},
     "output_type": "execute_result"
    }
   ],
   "source": [
    "from scipy.cluster.hierarchy import linkage, dendrogram, fcluster\n",
    "linkage_result = linkage(org_df[['rate']], method='ward', metric='euclidean')\n",
    "plt.figure(num=None, figsize=(16, 9), dpi=200, facecolor='w', edgecolor='k')\n",
    "dendrogram(linkage_result)\n",
    "plt.show()\n",
    "fcluster(linkage_result, 0.0015, criterion='distance')"
   ]
  },
  {
   "cell_type": "code",
   "execution_count": 173,
   "metadata": {
    "scrolled": false
   },
   "outputs": [
    {
     "name": "stdout",
     "output_type": "stream",
     "text": [
      "====Test columns====\n",
      "Kindergarten\n",
      "6880 1038\n",
      "Self-employed\n",
      "38412 5920\n",
      "Transport: type 3\n",
      "1187 174\n",
      "Business Entity Type 3\n",
      "67992 10840\n",
      "Government\n",
      "10404 1508\n",
      "Industry: type 9\n",
      "3368 499\n",
      "School\n",
      "8893 1287\n",
      "Trade: type 2\n",
      "1900 242\n",
      "XNA\n",
      "55374 9274\n",
      "Services\n",
      "1575 302\n",
      "Bank\n",
      "2507 374\n",
      "Industry: type 3\n",
      "3278 489\n",
      "Other\n",
      "16683 2707\n",
      "Trade: type 6\n",
      "631 122\n",
      "Industry: type 12\n",
      "369 77\n",
      "Trade: type 7\n",
      "7831 1303\n",
      "Postal\n",
      "2157 294\n",
      "Medicine\n",
      "11193 1716\n",
      "Housing\n",
      "2958 435\n",
      "Business Entity Type 2\n",
      "10553 1479\n",
      "Construction\n",
      "6721 1039\n",
      "Military\n",
      "2634 530\n",
      "Industry: type 4\n",
      "877 167\n",
      "Trade: type 3\n",
      "3492 578\n",
      "Legal Services\n",
      "305 53\n",
      "Security\n",
      "3247 472\n",
      "Industry: type 11\n",
      "2704 416\n",
      "University\n",
      "1327 221\n",
      "Business Entity Type 1\n",
      "5984 887\n",
      "Agriculture\n",
      "2454 292\n",
      "Security Ministries\n",
      "1974 341\n",
      "Transport: type 2\n",
      "2204 448\n",
      "Industry: type 7\n",
      "1307 217\n",
      "Transport: type 4\n",
      "5398 884\n",
      "Telecom\n",
      "577 95\n",
      "Emergency\n",
      "560 91\n",
      "Police\n",
      "2341 441\n",
      "Industry: type 1\n",
      "1039 178\n",
      "Transport: type 1\n",
      "201 35\n",
      "Electricity\n",
      "950 156\n",
      "Industry: type 5\n",
      "599 97\n",
      "Hotel\n",
      "966 134\n",
      "Restaurant\n",
      "1811 284\n",
      "Advertising\n",
      "429 71\n",
      "Mobile\n",
      "317 45\n",
      "Trade: type 1\n",
      "348 64\n",
      "Industry: type 8\n",
      "24 3\n",
      "Realtor\n",
      "396 72\n",
      "Cleaning\n",
      "260 43\n",
      "Industry: type 2\n",
      "458 77\n",
      "Trade: type 4\n",
      "64 14\n",
      "Industry: type 6\n",
      "112 27\n",
      "Culture\n",
      "379 61\n",
      "Insurance\n",
      "597 80\n",
      "Religion\n",
      "85 12\n",
      "Industry: type 13\n",
      "67 6\n",
      "Industry: type 10\n",
      "109 24\n",
      "Trade: type 5\n",
      "49 9\n",
      "====Needless train columns====\n"
     ]
    }
   ],
   "source": [
    "test_train_collection(data_train, data_test, 'ORGANIZATION_TYPE')"
   ]
  },
  {
   "cell_type": "markdown",
   "metadata": {},
   "source": [
    "### FONDKAPREMMONT_MODE"
   ]
  },
  {
   "cell_type": "code",
   "execution_count": 120,
   "metadata": {},
   "outputs": [
    {
     "name": "stdout",
     "output_type": "stream",
     "text": [
      "FONDKAPREMONT_MODE\n"
     ]
    },
    {
     "data": {
      "text/html": [
       "<div>\n",
       "<style>\n",
       "    .dataframe thead tr:only-child th {\n",
       "        text-align: right;\n",
       "    }\n",
       "\n",
       "    .dataframe thead th {\n",
       "        text-align: left;\n",
       "    }\n",
       "\n",
       "    .dataframe tbody tr th {\n",
       "        vertical-align: top;\n",
       "    }\n",
       "</style>\n",
       "<table border=\"1\" class=\"dataframe\">\n",
       "  <thead>\n",
       "    <tr style=\"text-align: right;\">\n",
       "      <th></th>\n",
       "      <th>rate</th>\n",
       "      <th>element</th>\n",
       "      <th>length</th>\n",
       "    </tr>\n",
       "  </thead>\n",
       "  <tbody>\n",
       "    <tr>\n",
       "      <th>1</th>\n",
       "      <td>0.086188</td>\n",
       "      <td>nan</td>\n",
       "      <td>210295</td>\n",
       "    </tr>\n",
       "    <tr>\n",
       "      <th>4</th>\n",
       "      <td>0.075435</td>\n",
       "      <td>not specified</td>\n",
       "      <td>5687</td>\n",
       "    </tr>\n",
       "    <tr>\n",
       "      <th>0</th>\n",
       "      <td>0.069782</td>\n",
       "      <td>reg oper account</td>\n",
       "      <td>73830</td>\n",
       "    </tr>\n",
       "    <tr>\n",
       "      <th>3</th>\n",
       "      <td>0.065563</td>\n",
       "      <td>reg oper spec account</td>\n",
       "      <td>12080</td>\n",
       "    </tr>\n",
       "    <tr>\n",
       "      <th>2</th>\n",
       "      <td>0.058195</td>\n",
       "      <td>org spec account</td>\n",
       "      <td>5619</td>\n",
       "    </tr>\n",
       "  </tbody>\n",
       "</table>\n",
       "</div>"
      ],
      "text/plain": [
       "       rate                element  length\n",
       "1  0.086188                    nan  210295\n",
       "4  0.075435          not specified    5687\n",
       "0  0.069782       reg oper account   73830\n",
       "3  0.065563  reg oper spec account   12080\n",
       "2  0.058195       org spec account    5619"
      ]
     },
     "execution_count": 120,
     "metadata": {},
     "output_type": "execute_result"
    },
    {
     "data": {
      "image/png": "[encoded data removed]",
      "text/plain": [
       "<matplotlib.figure.Figure at 0x20f12141b70>"
      ]
     },
     "metadata": {},
     "output_type": "display_data"
    }
   ],
   "source": [
    "category_information(data_train, 'FONDKAPREMONT_MODE')"
   ]
  },
  {
   "cell_type": "code",
   "execution_count": 174,
   "metadata": {},
   "outputs": [
    {
     "name": "stdout",
     "output_type": "stream",
     "text": [
      "====Test columns====\n",
      "nan\n",
      "210295 32797\n",
      "reg oper account\n",
      "73830 12124\n",
      "not specified\n",
      "5687 913\n",
      "org spec account\n",
      "5619 920\n",
      "reg oper spec account\n",
      "12080 1990\n",
      "====Needless train columns====\n"
     ]
    }
   ],
   "source": [
    "test_train_collection(data_train, data_test, 'FONDKAPREMONT_MODE')"
   ]
  },
  {
   "cell_type": "markdown",
   "metadata": {},
   "source": [
    "### HOUSETYPE_MODE"
   ]
  },
  {
   "cell_type": "code",
   "execution_count": 121,
   "metadata": {},
   "outputs": [
    {
     "name": "stdout",
     "output_type": "stream",
     "text": [
      "HOUSETYPE_MODE\n"
     ]
    },
    {
     "data": {
      "text/html": [
       "<div>\n",
       "<style>\n",
       "    .dataframe thead tr:only-child th {\n",
       "        text-align: right;\n",
       "    }\n",
       "\n",
       "    .dataframe thead th {\n",
       "        text-align: left;\n",
       "    }\n",
       "\n",
       "    .dataframe tbody tr th {\n",
       "        vertical-align: top;\n",
       "    }\n",
       "</style>\n",
       "<table border=\"1\" class=\"dataframe\">\n",
       "  <thead>\n",
       "    <tr style=\"text-align: right;\">\n",
       "      <th></th>\n",
       "      <th>rate</th>\n",
       "      <th>element</th>\n",
       "      <th>length</th>\n",
       "    </tr>\n",
       "  </thead>\n",
       "  <tbody>\n",
       "    <tr>\n",
       "      <th>3</th>\n",
       "      <td>0.101401</td>\n",
       "      <td>specific housing</td>\n",
       "      <td>1499</td>\n",
       "    </tr>\n",
       "    <tr>\n",
       "      <th>1</th>\n",
       "      <td>0.091512</td>\n",
       "      <td>nan</td>\n",
       "      <td>154297</td>\n",
       "    </tr>\n",
       "    <tr>\n",
       "      <th>2</th>\n",
       "      <td>0.084983</td>\n",
       "      <td>terraced house</td>\n",
       "      <td>1212</td>\n",
       "    </tr>\n",
       "    <tr>\n",
       "      <th>0</th>\n",
       "      <td>0.069434</td>\n",
       "      <td>block of flats</td>\n",
       "      <td>150503</td>\n",
       "    </tr>\n",
       "  </tbody>\n",
       "</table>\n",
       "</div>"
      ],
      "text/plain": [
       "       rate           element  length\n",
       "3  0.101401  specific housing    1499\n",
       "1  0.091512               nan  154297\n",
       "2  0.084983    terraced house    1212\n",
       "0  0.069434    block of flats  150503"
      ]
     },
     "execution_count": 121,
     "metadata": {},
     "output_type": "execute_result"
    },
    {
     "data": {
      "image/png": "[encoded data removed]",
      "text/plain": [
       "<matplotlib.figure.Figure at 0x20f332ff9b0>"
      ]
     },
     "metadata": {},
     "output_type": "display_data"
    }
   ],
   "source": [
    "category_information(data_train, 'HOUSETYPE_MODE')"
   ]
  },
  {
   "cell_type": "code",
   "execution_count": 175,
   "metadata": {},
   "outputs": [
    {
     "name": "stdout",
     "output_type": "stream",
     "text": [
      "====Test columns====\n",
      "block of flats\n",
      "150503 24659\n",
      "nan\n",
      "154297 23619\n",
      "specific housing\n",
      "1499 262\n",
      "terraced house\n",
      "1212 204\n",
      "====Needless train columns====\n"
     ]
    }
   ],
   "source": [
    "test_train_collection(data_train, data_test, 'HOUSETYPE_MODE')"
   ]
  },
  {
   "cell_type": "markdown",
   "metadata": {},
   "source": [
    "### EMERGENCYSTATE_MODE"
   ]
  },
  {
   "cell_type": "code",
   "execution_count": 122,
   "metadata": {},
   "outputs": [
    {
     "name": "stdout",
     "output_type": "stream",
     "text": [
      "EMERGENCYSTATE_MODE\n"
     ]
    },
    {
     "data": {
      "text/html": [
       "<div>\n",
       "<style>\n",
       "    .dataframe thead tr:only-child th {\n",
       "        text-align: right;\n",
       "    }\n",
       "\n",
       "    .dataframe thead th {\n",
       "        text-align: left;\n",
       "    }\n",
       "\n",
       "    .dataframe tbody tr th {\n",
       "        vertical-align: top;\n",
       "    }\n",
       "</style>\n",
       "<table border=\"1\" class=\"dataframe\">\n",
       "  <thead>\n",
       "    <tr style=\"text-align: right;\">\n",
       "      <th></th>\n",
       "      <th>rate</th>\n",
       "      <th>element</th>\n",
       "      <th>length</th>\n",
       "    </tr>\n",
       "  </thead>\n",
       "  <tbody>\n",
       "    <tr>\n",
       "      <th>2</th>\n",
       "      <td>0.095790</td>\n",
       "      <td>Yes</td>\n",
       "      <td>2328</td>\n",
       "    </tr>\n",
       "    <tr>\n",
       "      <th>1</th>\n",
       "      <td>0.092607</td>\n",
       "      <td>nan</td>\n",
       "      <td>145755</td>\n",
       "    </tr>\n",
       "    <tr>\n",
       "      <th>0</th>\n",
       "      <td>0.069649</td>\n",
       "      <td>No</td>\n",
       "      <td>159428</td>\n",
       "    </tr>\n",
       "  </tbody>\n",
       "</table>\n",
       "</div>"
      ],
      "text/plain": [
       "       rate element  length\n",
       "2  0.095790     Yes    2328\n",
       "1  0.092607     nan  145755\n",
       "0  0.069649      No  159428"
      ]
     },
     "execution_count": 122,
     "metadata": {},
     "output_type": "execute_result"
    },
    {
     "data": {
      "image/png": "[encoded data removed]",
      "text/plain": [
       "<matplotlib.figure.Figure at 0x20f322283c8>"
      ]
     },
     "metadata": {},
     "output_type": "display_data"
    }
   ],
   "source": [
    "category_information(data_train, 'EMERGENCYSTATE_MODE')"
   ]
  },
  {
   "cell_type": "code",
   "execution_count": 176,
   "metadata": {},
   "outputs": [
    {
     "name": "stdout",
     "output_type": "stream",
     "text": [
      "====Test columns====\n",
      "No\n",
      "159428 26179\n",
      "nan\n",
      "145755 22209\n",
      "Yes\n",
      "2328 356\n",
      "====Needless train columns====\n"
     ]
    }
   ],
   "source": [
    "test_train_collection(data_train, data_test, 'EMERGENCYSTATE_MODE')"
   ]
  },
  {
   "cell_type": "code",
   "execution_count": null,
   "metadata": {
    "collapsed": true
   },
   "outputs": [],
   "source": []
  },
  {
   "cell_type": "code",
   "execution_count": null,
   "metadata": {
    "collapsed": true
   },
   "outputs": [],
   "source": []
  }
 ],
 "metadata": {
  "kernelspec": {
   "display_name": "Python 3",
   "language": "python",
   "name": "python3"
  },
  "language_info": {
   "codemirror_mode": {
    "name": "ipython",
    "version": 3
   },
   "file_extension": ".py",
   "mimetype": "text/x-python",
   "name": "python",
   "nbconvert_exporter": "python",
   "pygments_lexer": "ipython3",
   "version": "3.6.3"
  }
 },
 "nbformat": 4,
 "nbformat_minor": 2
}
